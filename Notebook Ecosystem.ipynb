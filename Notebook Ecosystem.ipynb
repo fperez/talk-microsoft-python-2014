{
 "cells": [
  {
   "cell_type": "markdown",
   "metadata": {
    "slideshow": {
     "slide_type": "slide"
    }
   },
   "source": [
    "<div class=\"slide-header\">The Jupyter Notebook Ecosystem</div>"
   ]
  },
  {
   "cell_type": "code",
   "execution_count": 1,
   "metadata": {
    "collapsed": false,
    "slideshow": {
     "slide_type": "skip"
    }
   },
   "outputs": [
    {
     "name": "stdout",
     "output_type": "stream",
     "text": [
      "Populating the interactive namespace from numpy and matplotlib\n"
     ]
    },
    {
     "data": {
      "text/html": [
       "<style>\n",
       "/*\n",
       "   Simple CSS styling for using IPython Notebooks for talks.\n",
       "\n",
       "   Author: Fernando Perez <fernando.perez@berkeley.edu>\n",
       "*/\n",
       "\n",
       ".talk-title\n",
       "{\n",
       "  color: #498AF3;\n",
       "  font-size: 220%;\n",
       "  font-weight:bold;\n",
       "  line-height: 1.2;\n",
       "  margin: 10px 50px 10px;\n",
       "  }\n",
       "\n",
       ".talk-subtitle\n",
       "{\n",
       "  color: #386BBC;\n",
       "  font-size: 150%;\n",
       "  font-weight:bold;\n",
       "  line-height: 1.2;\n",
       "  margin: 20px 50px 20px;\n",
       "  }\n",
       "\n",
       ".slide-header, p.slide-header\n",
       "{\n",
       "  color: #498AF3;\n",
       "  font-size: 180%;\n",
       "  font-weight:bold;\n",
       "  margin: 0px 20px 10px;\n",
       "  page-break-before: always;\n",
       "  text-align: center;\n",
       "  }\n",
       "\n",
       ".rendered_html\n",
       "{\n",
       "  color: #2C5494;\n",
       "  font-family: Ubuntu;\n",
       "  font-size: 150%;\n",
       "  line-height: 1.1;\n",
       "  margin: 0.5em 0;\n",
       "  }\n",
       "\n",
       ".rendered_html h1\n",
       "{\n",
       "  color: #498AF3;\n",
       "  line-height: 1.2;\n",
       "  margin: 0.15em 0em 0.5em;\n",
       "  page-break-before: always;\n",
       "  text-align: center;\n",
       "  }\n",
       "\n",
       "\n",
       ".rendered_html h2\n",
       "{\n",
       "  color: #386BBC;\n",
       "  line-height: 1.2;\n",
       "  margin: 1.1em 0em 0.5em;\n",
       "  }\n",
       "\n",
       ".rendered_html h3\n",
       "{\n",
       "  font-size: 100%;\n",
       "  line-height: 1.2;\n",
       "  margin: 1.1em 0em 0.5em;\n",
       "  }\n",
       "\n",
       ".rendered_html h5\n",
       "{\n",
       "  font-size: 50%;\n",
       "  line-height: 1;\n",
       "  margin: 0.3em 0em 0.3em;\n",
       "  font-weight: bold;\n",
       "  text-align: center;\n",
       "  }\n",
       "\n",
       ".rendered_html h6\n",
       "{\n",
       "  font-size: 50%;\n",
       "  line-height: 1;\n",
       "  margin: 0.3em 0em 0.3em;\n",
       "  font-weight: normal;\n",
       "  text-align: center;\n",
       "  }\n",
       "\n",
       ".rendered_html li\n",
       "{\n",
       "  line-height: 1.8;\n",
       "  }\n",
       "\n",
       ".input_prompt, .CodeMirror-lines, .output_area\n",
       "{\n",
       "  font-family: Consolas;\n",
       "  font-size: 120%;\n",
       "  }\n",
       "\n",
       ".gap-above\n",
       "{\n",
       "  padding-top: 200px;\n",
       "  }\n",
       "\n",
       ".gap01\n",
       "{\n",
       "  padding-top: 10px;\n",
       "  }\n",
       "\n",
       ".gap05\n",
       "{\n",
       "  padding-top: 50px;\n",
       "  }\n",
       "\n",
       ".gap1\n",
       "{\n",
       "  padding-top: 100px;\n",
       "  }\n",
       "\n",
       ".gap2\n",
       "{\n",
       "  padding-top: 200px;\n",
       "  }\n",
       "\n",
       ".gap3\n",
       "{\n",
       "  padding-top: 300px;\n",
       "  }\n",
       "\n",
       ".emph\n",
       "{\n",
       "  color: #386BBC;\n",
       "  }\n",
       "\n",
       ".strike\n",
       "{\n",
       "  text-decoration:line-through;\n",
       "  color: #94B8F3;\n",
       "  }\n",
       "\n",
       ".warn\n",
       "{\n",
       "  color: red;\n",
       "  }\n",
       "\n",
       ".center\n",
       "{\n",
       "  text-align: center;\n",
       "  }\n",
       "\n",
       ".nb_link\n",
       "{\n",
       "    padding-bottom: 0.5em;\n",
       "}\n",
       "\n",
       "</style>\n"
      ],
      "text/plain": [
       "<IPython.core.display.HTML object>"
      ]
     },
     "metadata": {},
     "output_type": "display_data"
    }
   ],
   "source": [
    "%pylab inline\n",
    "%run talktools"
   ]
  },
  {
   "cell_type": "markdown",
   "metadata": {
    "slideshow": {
     "slide_type": "slide"
    }
   },
   "source": [
    "# Reproducible research..."
   ]
  },
  {
   "cell_type": "code",
   "execution_count": 3,
   "metadata": {
    "collapsed": false
   },
   "outputs": [
    {
     "data": {
      "text/html": [
       "<iframe src=\"http://www.nature.com/ismej/journal/v7/n3/full/ismej2012123a.html\"  width=\"800\" height=\"450\"></iframe>"
      ],
      "text/plain": [
       "<IPython.core.display.HTML object>"
      ]
     },
     "execution_count": 3,
     "metadata": {},
     "output_type": "execute_result"
    }
   ],
   "source": [
    "website('http://www.nature.com/ismej/journal/v7/n3/full/ismej2012123a.html', None)"
   ]
  },
  {
   "cell_type": "markdown",
   "metadata": {
    "slideshow": {
     "slide_type": "slide"
    }
   },
   "source": [
    "# Notebooks and AMIs"
   ]
  },
  {
   "cell_type": "code",
   "execution_count": 4,
   "metadata": {
    "collapsed": false
   },
   "outputs": [
    {
     "data": {
      "text/html": [
       "<iframe src=\"http://qiime.org/home_static/nih-cloud-apr2012\"  width=\"800\" height=\"450\"></iframe>"
      ],
      "text/plain": [
       "<IPython.core.display.HTML object>"
      ]
     },
     "execution_count": 4,
     "metadata": {},
     "output_type": "execute_result"
    }
   ],
   "source": [
    "website('http://qiime.org/home_static/nih-cloud-apr2012', None)"
   ]
  },
  {
   "cell_type": "markdown",
   "metadata": {
    "slideshow": {
     "slide_type": "slide"
    }
   },
   "source": [
    "<div class=\"slide-header\">Notebook-based technical blogs</div>\n",
    "## Jake VanderPlas (astronomy/ML at UW)"
   ]
  },
  {
   "cell_type": "code",
   "execution_count": 5,
   "metadata": {
    "collapsed": false
   },
   "outputs": [
    {
     "data": {
      "text/html": [
       "<iframe src=\"http://blogs.scientificamerican.com/sa-visual/2014/09/16/visualizing-4-dimensional-asteroids\"  width=\"800\" height=\"450\"></iframe>"
      ],
      "text/plain": [
       "<IPython.core.display.HTML object>"
      ]
     },
     "execution_count": 5,
     "metadata": {},
     "output_type": "execute_result"
    }
   ],
   "source": [
    "website('http://blogs.scientificamerican.com/sa-visual/2014/09/16/visualizing-4-dimensional-asteroids', None)"
   ]
  },
  {
   "cell_type": "markdown",
   "metadata": {
    "slideshow": {
     "slide_type": "slide"
    }
   },
   "source": [
    "<div class=\"slide-header\">Books: \"Literate Computing\"</div>\n",
    "\n",
    "Python for Signal Processing, By [Jose Unpingco](https://github.com/unpingco/Python-for-Signal-Processing)\n",
    "\n",
    "<table>\n",
    "<tr>\n",
    "\n",
    "<td>\n",
    "<ul>\n",
    "<li><a href=\"http://link.springer.com/book/10.1007/978-3-319-01342-8/page/1\" target=_blank>Springer hardcover</a> book</li>\n",
    "<li>Each chapter is an IPython Notebook</li>\n",
    "<li>Posted as a <a href=\"http://python-for-signal-processing.blogspot.com/\">blog entry</a></li>\n",
    "<li>And all available as a <a href=\"https://github.com/unpingco/Python-for-Signal-Processing\">Github repo</a></li>\n",
    "</ul>\n",
    "</td>\n",
    "\n",
    "<td>\n",
    "<img src=\"fig/book_pfsp.jpg\" width=\"60%\">\n",
    "</td>\n",
    "\n",
    "</tr>\n",
    "</table>"
   ]
  },
  {
   "cell_type": "markdown",
   "metadata": {
    "slideshow": {
     "slide_type": "slide"
    }
   },
   "source": [
    "<div class=\"slide-header\">... \"Mining the Social Web\"</div>\n",
    "By [Matthew Russell](https://github.com/ptwobrussell).\n",
    "\n",
    "<table>\n",
    "<tr>\n",
    "\n",
    "<td>\n",
    "<ul>\n",
    "<li><a href=\"http://shop.oreilly.com/product/0636920010203.do\" target=_blank>O'Reilly</a> book</li>\n",
    "<li>Companion Notebook collection</li>\n",
    "<li>All available as a <a href=\"https://github.com/ptwobrussell/Mining-the-Social-Web-2nd-Edition\">Github repo</a></li>\n",
    "</ul>\n",
    "</td>\n",
    "\n",
    "<td>\n",
    "<img src=\"fig/book_mtsw.jpg\" width=\"60%\">\n",
    "</td>\n",
    "\n",
    "</tr>\n",
    "</table>"
   ]
  },
  {
   "cell_type": "markdown",
   "metadata": {
    "slideshow": {
     "slide_type": "slide"
    }
   },
   "source": [
    "# Education"
   ]
  },
  {
   "cell_type": "code",
   "execution_count": 6,
   "metadata": {
    "collapsed": false
   },
   "outputs": [
    {
     "data": {
      "text/html": [
       "<div style=\"max-height:1000px;max-width:1500px;overflow:auto;\">\n",
       "<table border=\"1\" class=\"dataframe\">\n",
       "  <thead>\n",
       "    <tr style=\"text-align: right;\">\n",
       "      <th></th>\n",
       "      <th>Course</th>\n",
       "      <th>University</th>\n",
       "      <th>Instructor</th>\n",
       "    </tr>\n",
       "  </thead>\n",
       "  <tbody>\n",
       "    <tr>\n",
       "      <th>0 </th>\n",
       "      <td> Data Science and Visualization with Python</td>\n",
       "      <td>                    Santa Clara</td>\n",
       "      <td>          Brian Granger</td>\n",
       "    </tr>\n",
       "    <tr>\n",
       "      <th>1 </th>\n",
       "      <td>                    Python for Data Science</td>\n",
       "      <td>                    UC Berkeley</td>\n",
       "      <td>             Josh Bloom</td>\n",
       "    </tr>\n",
       "    <tr>\n",
       "      <th>2 </th>\n",
       "      <td>               Introduction to Data Science</td>\n",
       "      <td>                    UC Berkeley</td>\n",
       "      <td>       Michael Franklin</td>\n",
       "    </tr>\n",
       "    <tr>\n",
       "      <th>3 </th>\n",
       "      <td>                     Working with Open Data</td>\n",
       "      <td>                    UC Berkeley</td>\n",
       "      <td>            Raymond Yee</td>\n",
       "    </tr>\n",
       "    <tr>\n",
       "      <th>4 </th>\n",
       "      <td>          Introduction to Signal Processing</td>\n",
       "      <td>                    UC Berkeley</td>\n",
       "      <td>            Miki Lustig</td>\n",
       "    </tr>\n",
       "    <tr>\n",
       "      <th>5 </th>\n",
       "      <td>                      Data Science (CS 109)</td>\n",
       "      <td>             Harvard University</td>\n",
       "      <td> Pfister and Blitzstein</td>\n",
       "    </tr>\n",
       "    <tr>\n",
       "      <th>6 </th>\n",
       "      <td>                     Practical Data Science</td>\n",
       "      <td>                            NYU</td>\n",
       "      <td>         Josh Attenberg</td>\n",
       "    </tr>\n",
       "    <tr>\n",
       "      <th>7 </th>\n",
       "      <td>            Scientific Computing (ASTR 599)</td>\n",
       "      <td>       University of Washington</td>\n",
       "      <td>        Jake Vanderplas</td>\n",
       "    </tr>\n",
       "    <tr>\n",
       "      <th>8 </th>\n",
       "      <td>                      Computational Physics</td>\n",
       "      <td>                       Cal Poly</td>\n",
       "      <td>          Jennifer Klay</td>\n",
       "    </tr>\n",
       "    <tr>\n",
       "      <th>9 </th>\n",
       "      <td>                Introduction to Programming</td>\n",
       "      <td>            Alaskan High School</td>\n",
       "      <td>           Eric Matthes</td>\n",
       "    </tr>\n",
       "    <tr>\n",
       "      <th>10</th>\n",
       "      <td>      Aerodynamics-Hydrodynamics (MAE 6226)</td>\n",
       "      <td>   George Washington University</td>\n",
       "      <td>           Lorena Barba</td>\n",
       "    </tr>\n",
       "    <tr>\n",
       "      <th>11</th>\n",
       "      <td>  HyperPython: hyperbolic conservation laws</td>\n",
       "      <td>                          KAUST</td>\n",
       "      <td>        David Ketcheson</td>\n",
       "    </tr>\n",
       "    <tr>\n",
       "      <th>12</th>\n",
       "      <td>                     Quantitative Economics</td>\n",
       "      <td>                            NYU</td>\n",
       "      <td> Sargent and Stachurski</td>\n",
       "    </tr>\n",
       "    <tr>\n",
       "      <th>13</th>\n",
       "      <td>    Practical Numerical Methods with Python</td>\n",
       "      <td> 4 separate universities + MOOC</td>\n",
       "      <td>          Barba, et al.</td>\n",
       "    </tr>\n",
       "    <tr>\n",
       "      <th>14</th>\n",
       "      <td>                   Data Science: Algorithms</td>\n",
       "      <td>        Columbia - Lede Program</td>\n",
       "      <td>          Chris Wiggins</td>\n",
       "    </tr>\n",
       "    <tr>\n",
       "      <th>15</th>\n",
       "      <td>                    Data Science: Databases</td>\n",
       "      <td>        Columbia - Lede Program</td>\n",
       "      <td>          Chris Wiggins</td>\n",
       "    </tr>\n",
       "    <tr>\n",
       "      <th>16</th>\n",
       "      <td>                  Data Science: Foundations</td>\n",
       "      <td>        Columbia - Lede Program</td>\n",
       "      <td>          Chris Wiggins</td>\n",
       "    </tr>\n",
       "    <tr>\n",
       "      <th>17</th>\n",
       "      <td>                    Data Science: Platforms</td>\n",
       "      <td>        Columbia - Lede Program</td>\n",
       "      <td>          Chris Wiggins</td>\n",
       "    </tr>\n",
       "  </tbody>\n",
       "</table>\n",
       "</div>"
      ],
      "text/plain": [
       "                                        Course  \\\n",
       "0   Data Science and Visualization with Python   \n",
       "1                      Python for Data Science   \n",
       "2                 Introduction to Data Science   \n",
       "3                       Working with Open Data   \n",
       "4            Introduction to Signal Processing   \n",
       "5                        Data Science (CS 109)   \n",
       "6                       Practical Data Science   \n",
       "7              Scientific Computing (ASTR 599)   \n",
       "8                        Computational Physics   \n",
       "9                  Introduction to Programming   \n",
       "10       Aerodynamics-Hydrodynamics (MAE 6226)   \n",
       "11   HyperPython: hyperbolic conservation laws   \n",
       "12                      Quantitative Economics   \n",
       "13     Practical Numerical Methods with Python   \n",
       "14                    Data Science: Algorithms   \n",
       "15                     Data Science: Databases   \n",
       "16                   Data Science: Foundations   \n",
       "17                     Data Science: Platforms   \n",
       "\n",
       "                        University              Instructor  \n",
       "0                      Santa Clara           Brian Granger  \n",
       "1                      UC Berkeley              Josh Bloom  \n",
       "2                      UC Berkeley        Michael Franklin  \n",
       "3                      UC Berkeley             Raymond Yee  \n",
       "4                      UC Berkeley             Miki Lustig  \n",
       "5               Harvard University  Pfister and Blitzstein  \n",
       "6                              NYU          Josh Attenberg  \n",
       "7         University of Washington         Jake Vanderplas  \n",
       "8                         Cal Poly           Jennifer Klay  \n",
       "9              Alaskan High School            Eric Matthes  \n",
       "10    George Washington University            Lorena Barba  \n",
       "11                           KAUST         David Ketcheson  \n",
       "12                             NYU  Sargent and Stachurski  \n",
       "13  4 separate universities + MOOC           Barba, et al.  \n",
       "14         Columbia - Lede Program           Chris Wiggins  \n",
       "15         Columbia - Lede Program           Chris Wiggins  \n",
       "16         Columbia - Lede Program           Chris Wiggins  \n",
       "17         Columbia - Lede Program           Chris Wiggins  "
      ]
     },
     "execution_count": 6,
     "metadata": {},
     "output_type": "execute_result"
    }
   ],
   "source": [
    "import pandas; pandas.read_csv('courses.csv')"
   ]
  },
  {
   "cell_type": "markdown",
   "metadata": {
    "slideshow": {
     "slide_type": "slide"
    }
   },
   "source": [
    "<div class=\"slide-header\">NBViewer: Share notebooks online </div>\n",
    "## Matthias Bussonnier, 2012"
   ]
  },
  {
   "cell_type": "code",
   "execution_count": 7,
   "metadata": {
    "collapsed": false
   },
   "outputs": [
    {
     "data": {
      "text/html": [
       "<iframe src=\"http://nbviewer.ipython.org\"  width=\"800\" height=\"450\"></iframe>"
      ],
      "text/plain": [
       "<IPython.core.display.HTML object>"
      ]
     },
     "execution_count": 7,
     "metadata": {},
     "output_type": "execute_result"
    }
   ],
   "source": [
    "website('nbviewer.ipython.org', None)"
   ]
  },
  {
   "cell_type": "markdown",
   "metadata": {
    "slideshow": {
     "slide_type": "slide"
    }
   },
   "source": [
    "## Opening up data-driven journalism\n",
    "### Brian Keegan and 538"
   ]
  },
  {
   "cell_type": "code",
   "execution_count": 8,
   "metadata": {
    "collapsed": false
   },
   "outputs": [
    {
     "data": {
      "text/html": [
       "<iframe src=\"http://fivethirtyeight.com/features/the-dollar-and-cents-case-against-hollywoods-exclusion-of-women/\"  width=\"800\" height=\"450\"></iframe>"
      ],
      "text/plain": [
       "<IPython.core.display.HTML object>"
      ]
     },
     "execution_count": 8,
     "metadata": {},
     "output_type": "execute_result"
    }
   ],
   "source": [
    "website('http://fivethirtyeight.com/features/the-dollar-and-cents-case-against-hollywoods-exclusion-of-women/', None)"
   ]
  },
  {
   "cell_type": "markdown",
   "metadata": {
    "slideshow": {
     "slide_type": "slide"
    }
   },
   "source": [
    "# Brian Keegan's amazing notebook\n",
    "\n",
    "* [The Need for Openness in Data Journalism](http://nbviewer.ipython.org/github/brianckeegan/Bechdel/blob/master/Bechdel_test.ipynb)\n",
    "\n",
    "* [Reply from 538 team](http://fivethirtyeight.com/datalab/the-bechdel-test-checking-our-work/) (emph. mine):\n",
    "\n",
    "Keegan also made a larger point: *<span class=\"emph\">FiveThirtyEight and similar sites should make their data available. We couldn’t agree more</span>*. We’re exploring ways of making our raw code and data available to readers, including through FiveThirtyEight’s GitHub account."
   ]
  },
  {
   "cell_type": "markdown",
   "metadata": {
    "slideshow": {
     "slide_type": "slide"
    }
   },
   "source": [
    "# BuzzFeed article on Ferguson segregation\n",
    "\n",
    "[The Ferguson Area Is Even More Segregated Than You Probably Guessed](http://www.buzzfeed.com/jsvine/the-ferguson-area-is-even-more-segregated-than-you-thought#44ydjhp) (Aug. 2014, Jeremy Singer-Vine)."
   ]
  },
  {
   "cell_type": "code",
   "execution_count": 9,
   "metadata": {
    "collapsed": false
   },
   "outputs": [
    {
     "data": {
      "text/html": [
       "<iframe src=\"http://nbviewer.ipython.org/github/BuzzFeedNews/2014-08-st-louis-county-segregation/blob/master/notebooks/segregation-analysis.ipynb\"  width=\"800\" height=\"450\"></iframe>"
      ],
      "text/plain": [
       "<IPython.core.display.HTML object>"
      ]
     },
     "execution_count": 9,
     "metadata": {},
     "output_type": "execute_result"
    }
   ],
   "source": [
    "website('http://nbviewer.ipython.org/github/BuzzFeedNews/2014-08-st-louis-county-segregation/blob/master/notebooks/segregation-analysis.ipynb')"
   ]
  },
  {
   "cell_type": "markdown",
   "metadata": {
    "slideshow": {
     "slide_type": "slide"
    }
   },
   "source": [
    "# Notebook Workflows: The Big Picture\n",
    "\n",
    "<div class=\"stretch\"><img src=\"fig/IPynbWorkflows.png\"/></div>\n",
    "\n",
    "Image credit: [Joshua Barratt](https://github.com/jbarratt)"
   ]
  },
  {
   "cell_type": "markdown",
   "metadata": {
    "slideshow": {
     "slide_type": "slide"
    }
   },
   "source": [
    "<p class=\"gap2\"></p>\n",
    "# Others building atop IPython\n",
    "## OSS and commercial players"
   ]
  },
  {
   "cell_type": "markdown",
   "metadata": {
    "slideshow": {
     "slide_type": "slide"
    }
   },
   "source": [
    "# Microsoft Python Tools for Visual Studio\n",
    "### Shahrokh Mortazavi, Dino Viehland, Wenming Ye, Dennis Gannon. Thanks!!\n",
    "<center>\n",
    "<a href=\"http://blogs.msdn.com/b/somasegar/archive/2014/04/10/python-tools-for-visual-studio-2-1-beta.aspx\"><img src=\"fig/ptvs-ipython-2014.png\" width=\"80%\"></a>\n",
    "</center>"
   ]
  },
  {
   "cell_type": "markdown",
   "metadata": {
    "slideshow": {
     "slide_type": "slide"
    }
   },
   "source": [
    "<div class=\"slide-header\">Microsoft Azure (S. Mortazavi, W. Ye)</div>\n",
    "\n",
    "<center>\n",
    "<img src=\"fig/azure-notebook.png\" width=\"70%\">\n",
    "</center>"
   ]
  },
  {
   "cell_type": "markdown",
   "metadata": {
    "slideshow": {
     "slide_type": "slide"
    }
   },
   "source": [
    "# StarCluster\n",
    "## Justin Riley @ MIT\n",
    "<center>\n",
    "<img src=\"fig/starcluster_overview.png\" width=\"80%\">\n",
    "</center>"
   ]
  },
  {
   "cell_type": "markdown",
   "metadata": {
    "slideshow": {
     "slide_type": "slide"
    }
   },
   "source": [
    "# IBM Watson\n",
    "<center>\n",
    "<img src=\"fig/ibm-watson-ipython.png\" width=\"80%\">\n",
    "</center>"
   ]
  },
  {
   "cell_type": "markdown",
   "metadata": {
    "slideshow": {
     "slide_type": "slide"
    }
   },
   "source": [
    "# Enthought Canopy\n",
    "<center>\n",
    "<img src=\"fig/ipython-canopy.png\" width=\"80%\">\n",
    "</center>"
   ]
  },
  {
   "cell_type": "markdown",
   "metadata": {
    "slideshow": {
     "slide_type": "slide"
    }
   },
   "source": [
    "# Continuum Analytics: Wakari.io\n",
    "<center>\n",
    "<img src=\"fig/wakari-pendulum.png\" width=\"80%\">\n",
    "</center>"
   ]
  },
  {
   "cell_type": "markdown",
   "metadata": {
    "slideshow": {
     "slide_type": "slide"
    }
   },
   "source": [
    "## Authorea: collaborative academic writing"
   ]
  },
  {
   "cell_type": "code",
   "execution_count": 10,
   "metadata": {
    "collapsed": false
   },
   "outputs": [
    {
     "data": {
      "text/html": [
       "<iframe src=\"https://www.authorea.com/users/3/articles/3904/_show_article\"  width=\"800\" height=\"450\"></iframe>"
      ],
      "text/plain": [
       "<IPython.core.display.HTML object>"
      ]
     },
     "execution_count": 10,
     "metadata": {},
     "output_type": "execute_result"
    }
   ],
   "source": [
    "website('https://www.authorea.com/users/3/articles/3904/_show_article', None)"
   ]
  },
  {
   "cell_type": "markdown",
   "metadata": {
    "slideshow": {
     "slide_type": "slide"
    }
   },
   "source": [
    "# Plotly: d3, server-side plots with data"
   ]
  },
  {
   "cell_type": "code",
   "execution_count": 12,
   "metadata": {
    "collapsed": false
   },
   "outputs": [
    {
     "data": {
      "text/html": [
       "<iframe id=\"igraph\" scrolling=\"no\" style=\"border:none;\"seamless=\"seamless\" src=\"https://plot.ly/~IPython.Demo/1101.embed?width=675&height=375\" height=\"400\" width=\"700\"></iframe>"
      ],
      "text/plain": [
       "<plotly.tools.PlotlyDisplay object>"
      ]
     },
     "execution_count": 12,
     "metadata": {},
     "output_type": "execute_result"
    }
   ],
   "source": [
    "import plotly.plotly as py\n",
    "from pldemo import boxes, layout\n",
    "py.sign_in('IPython.Demo', '1fw3zw2o13')\n",
    "py.iplot(boxes, layout = layout, filename='Distributions', fileopt='overwrite', \n",
    "         width=700, height=400)"
   ]
  },
  {
   "cell_type": "markdown",
   "metadata": {
    "slideshow": {
     "slide_type": "slide"
    }
   },
   "source": [
    "<p class=\"gap2\"></p>\n",
    "# Much, much more\n",
    "\n",
    "## [A Gallery of Interesting Notebooks](https://github.com/ipython/ipython/wiki/A-gallery-of-interesting-IPython-Notebooks)"
   ]
  },
  {
   "cell_type": "markdown",
   "metadata": {
    "slideshow": {
     "slide_type": "slide"
    }
   },
   "source": [
    "# Open tools and protocols for computing \n",
    "\n",
    "## From scientists to journalists to educators to industry to...\n",
    "\n",
    "- Think HTTP and HTML... \n",
    "  * **Pervasive computing and data**\n",
    "- Language agnostic.\n",
    "- Flexible, reusable building blocks.\n",
    "  * Interactive clients (console, shells, etc).\n",
    "  * Literate computing (notebook)\n",
    "  * Novel web services (notebook-based and *non*-nb)."
   ]
  },
  {
   "cell_type": "markdown",
   "metadata": {
    "slideshow": {
     "slide_type": "slide"
    }
   },
   "source": [
    "<p class=\"gap2\"></p>\n",
    "# Thank you!"
   ]
  }
 ],
 "metadata": {
  "kernelspec": {
   "display_name": "Python 2",
   "language": "python",
   "name": "python2"
  },
  "language_info": {
   "codemirror_mode": {
    "name": "ipython",
    "version": 2
   },
   "file_extension": ".py",
   "mimetype": "text/x-python",
   "name": "python",
   "nbconvert_exporter": "python",
   "pygments_lexer": "ipython2",
   "version": "2.7.8"
  }
 },
 "nbformat": 4,
 "nbformat_minor": 0
}

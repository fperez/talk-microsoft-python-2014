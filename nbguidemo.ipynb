{
 "metadata": {
  "kernelspec": {
   "codemirror_mode": {
    "name": "ipython",
    "version": 2
   },
   "display_name": "IPython (Python 2)",
   "language": "python",
   "name": "python2"
  },
  "name": "",
  "signature": "sha256:cf21f9f740cc82a607b8a2ac0686c7210c3d7926e1e0ebba51818100d8329ee9"
 },
 "nbformat": 3,
 "nbformat_minor": 0,
 "worksheets": [
  {
   "cells": [
    {
     "cell_type": "markdown",
     "metadata": {},
     "source": [
      "# Creating a Rich GUI in the IPython Notebook\n",
      "\n",
      "A modified version of [this original notebook](http://nbviewer.ipython.org/gist/bollwyvl/ddd4bf5d7c879012fa2c) by [Nicholas Bollweg](http://github.com/bollwyvl)."
     ]
    },
    {
     "cell_type": "code",
     "collapsed": false,
     "input": [
      "%matplotlib inline\n",
      "\n",
      "from IPython.html.widgets import (\n",
      "    FlexBox, VBox, HBox, HTML, Box, RadioButtons,\n",
      "    FloatText, Dropdown, Checkbox, Image, IntSlider, Button, FloatSlider,\n",
      ")\n",
      "from IPython.utils.traitlets import (\n",
      "    link, Unicode, Float, Int, Enum, Bool,\n",
      ")"
     ],
     "language": "python",
     "metadata": {},
     "outputs": [],
     "prompt_number": 1
    },
    {
     "cell_type": "markdown",
     "metadata": {},
     "source": [
      "CSS helps keep your code concise, as well as make it easier to extend/override."
     ]
    },
    {
     "cell_type": "code",
     "collapsed": false,
     "input": [
      "%%html\n",
      "<style>\n",
      "/*\n",
      "    This contents of this would go in a separate CSS file.\n",
      "\n",
      "    Note the namespacing: this is important for two reasons.\n",
      "    1) doesn't pollute the global namespace\n",
      "    2) is _more specific_ than the base styles.\n",
      "*/\n",
      "\n",
      ".widget-area .spectroscopy .panel-body{\n",
      "    padding: 0;\n",
      "}\n",
      ".widget-area .spectroscopy .widget-numeric-text{\n",
      "    width: 5em;\n",
      "}\n",
      ".widget-area .spectroscopy .widget-box.start{\n",
      "    margin-left: 0;\n",
      "}\n",
      ".widget-area .spectroscopy .widget-hslider{\n",
      "    width: 12em;\n",
      "}\n",
      "    \n",
      "</style>"
     ],
     "language": "python",
     "metadata": {},
     "outputs": [
      {
       "html": [
        "<style>\n",
        "/*\n",
        "    This contents of this would go in a separate CSS file.\n",
        "\n",
        "    Note the namespacing: this is important for two reasons.\n",
        "    1) doesn't pollute the global namespace\n",
        "    2) is _more specific_ than the base styles.\n",
        "*/\n",
        "\n",
        ".widget-area .spectroscopy .panel-body{\n",
        "    padding: 0;\n",
        "}\n",
        ".widget-area .spectroscopy .widget-numeric-text{\n",
        "    width: 5em;\n",
        "}\n",
        ".widget-area .spectroscopy .widget-box.start{\n",
        "    margin-left: 0;\n",
        "}\n",
        ".widget-area .spectroscopy .widget-hslider{\n",
        "    width: 12em;\n",
        "}\n",
        "    \n",
        "</style>"
       ],
       "metadata": {},
       "output_type": "display_data",
       "text": [
        "<IPython.core.display.HTML object>"
       ]
      }
     ],
     "prompt_number": 2
    },
    {
     "cell_type": "markdown",
     "metadata": {},
     "source": [
      "These few classes wrap up some [Bootstrap components](http://getbootstrap.com/components/): these will be more consistent then coding up your own."
     ]
    },
    {
     "cell_type": "code",
     "collapsed": false,
     "input": [
      "class PanelTitle(HTML):\n",
      "    def __init__(self, *args, **kwargs):\n",
      "        super(PanelTitle, self).__init__(*args, **kwargs)\n",
      "        self.on_displayed(self.displayed)\n",
      "    def displayed(self, _):\n",
      "        self.add_class(\"panel-heading panel-title\")\n",
      "\n",
      "class PanelBody(Box):\n",
      "    def __init__(self, *args, **kwargs):\n",
      "        super(PanelBody, self).__init__(*args, **kwargs)\n",
      "        self.on_displayed(self.displayed)\n",
      "    def displayed(self, _):\n",
      "        self.add_class(\"panel-body\")\n",
      "\n",
      "class ControlPanel(Box):\n",
      "    # A set of related controls, with an optional title, in a box (provided by CSS)\n",
      "    def __init__(self, title=None, *args, **kwargs):\n",
      "        super(ControlPanel, self).__init__(*args, **kwargs)\n",
      "        \n",
      "        # add an option title widget\n",
      "        if title is not None:\n",
      "            \n",
      "            self.children = [\n",
      "                PanelTitle(value=title),\n",
      "                PanelBody(children=self.children)\n",
      "            ]\n",
      "\n",
      "        self.on_displayed(self.displayed)\n",
      "    \n",
      "    def displayed(self, _):\n",
      "        self.add_class(\"panel panel-info\")"
     ],
     "language": "python",
     "metadata": {},
     "outputs": [],
     "prompt_number": 3
    },
    {
     "cell_type": "markdown",
     "metadata": {},
     "source": [
      "This notional `Spectrogram` shows how one might make a widget that redraws based on the state of its data. By defining its external API, including allowed and default values, in the form of [linked traitlets](http://ipython.org/ipython-doc/dev/api/generated/IPython.utils.traitlets.html#IPython.utils.traitlets.link), it can be reused without replumbing any events, while a few simple methods like `draw` make sure it is still easy to use in a programmatic way."
     ]
    },
    {
     "cell_type": "code",
     "collapsed": false,
     "input": [
      "def html_figure(fig):\n",
      "    \"\"\"Return an HTML <img> tag with the data for a matplotlib figure embedded\"\"\"\n",
      "    \n",
      "    from IPython.core.pylabtools import print_figure\n",
      "    import base64\n",
      "\n",
      "    fdata64 = base64.b64encode(print_figure(fig))\n",
      "    html_tpl = '<img alt=\"Figure\" src=\"data:image/png;base64,{}\">'\n",
      "    return html_tpl.format(fdata64)"
     ],
     "language": "python",
     "metadata": {},
     "outputs": [],
     "prompt_number": 8
    },
    {
     "cell_type": "code",
     "collapsed": false,
     "input": [
      "class AudioBeats(HTML):\n",
      "    \"\"\"\n",
      "    A notional \"complex widget\" that knows how to redraw itself when key properties change.\n",
      "    \"\"\"\n",
      "\n",
      "    # Signal parameters\n",
      "    L = Float(1, sync=True)\n",
      "    f1 = Float(220, sync=True)\n",
      "    f2 = Float(224, sync=True)\n",
      "    rate = 4000.0\n",
      "    \n",
      "    def __init__(self, *args, **kwargs):\n",
      "        \"\"\"\n",
      "        Creates a spectrogram\n",
      "        \"\"\"\n",
      "        super(AudioBeats, self).__init__(*args, **kwargs)\n",
      "        self.on_trait_change(lambda name, old, new: self.draw(name, old, new))\n",
      "        self.on_displayed(self.displayed)\n",
      "\n",
      "    def displayed(self, _):\n",
      "        self.add_class(\"col-xs-9\")\n",
      "        self.draw()\n",
      "    \n",
      "    def draw(self, name=None, old=None, new=None):        \n",
      "        # Make figure with random data. Replace with real application here\n",
      "        import matplotlib.pyplot as plt\n",
      "        import numpy as np\n",
      "        plt.rcParams['figure.figsize'] = (6,4)\n",
      "        \n",
      "        # Audio\n",
      "        from IPython.display import Audio\n",
      "        \n",
      "        times = np.linspace(0, self.L, self.rate*self.L)\n",
      "        signal = np.sin(2*np.pi*self.f1*times) + np.sin(2*np.pi*self.f2*times)\n",
      "\n",
      "        html_audio = Audio(data=signal, rate=self.rate)._repr_html_()\n",
      "        #print 'audio:', len(html_audio)\n",
      "        \n",
      "        # figure\n",
      "        fig, (ax1, ax2) = plt.subplots(1, 2, figsize=(12, 5))\n",
      "        ax1.plot(times, signal); ax1.set_xlabel('Raw audio signal')\n",
      "        ax2.specgram(signal); ax2.set_xlabel('Spectrogram');\n",
      "        fig.suptitle(r'$s(t) = \\sin(2\\pi f_1 t) + \\sin(2 \\pi f_2 t)$', fontsize=20)\n",
      "        plt.close(fig)\n",
      "        html_fig = html_figure(fig)\n",
      "        \n",
      "        # WATCH THIS! setting value to an html string with the figure data\n",
      "        # is what will show the plot in the final render:\n",
      "        value = r\"\"\"\n",
      "        {html_fig}\n",
      "        <p>\n",
      "        {html_audio}\n",
      "        \"\"\".format(**locals())\n",
      "                \n",
      "        self.value = value\n",
      "        \n",
      "AudioBeats()"
     ],
     "language": "python",
     "metadata": {},
     "outputs": [],
     "prompt_number": 9
    },
    {
     "cell_type": "markdown",
     "metadata": {},
     "source": [
      "The actual GUI. Note that the individual components of the view are responsible for:\n",
      "- creating widgets\n",
      "- linking to the graph widget"
     ]
    },
    {
     "cell_type": "code",
     "collapsed": false,
     "input": [
      "class BeatsExplorer(Box):\n",
      "    \"\"\"\n",
      "    An example GUI for a spectroscopy application.\n",
      "    \n",
      "    Note that `self.graph` is the owner of all of the \"real\" data, while this\n",
      "    class handles creating all of the GUI controls and links. This ensures\n",
      "    that the Graph itself remains embeddable and rem\n",
      "    \"\"\"\n",
      "    def __init__(self, graph=None, graph_config=None, *args, **kwargs):\n",
      "        self.graph = graph or AudioBeats(**(graph_config or {}))\n",
      "        # Create a GUI\n",
      "        kwargs[\"children\"] = [VBox(children = \n",
      "                                  [self._controls(), self.graph])]\n",
      "        super(BeatsExplorer, self).__init__(*args, **kwargs)\n",
      "        \n",
      "        self.on_displayed(self.displayed)\n",
      "\n",
      "    def displayed(self, _):\n",
      "        # namespace and top-level bootstrap\n",
      "        self.add_class(\"spectroscopy row\")\n",
      "        \n",
      "    def _controls(self):\n",
      "        panels = VBox(children=[\n",
      "            self._spectrum(),\n",
      "        ])\n",
      "        panels.on_displayed(lambda x: panels.add_class(\"col-xs-3\"))\n",
      "        return panels\n",
      "    \n",
      "    def _spectrum(self):\n",
      "        # create spectrum controls.  NOTE: should only be called once.\n",
      "        f1 = FloatSlider( description=\"f1\", min=220, max=230, value=225)\n",
      "        link( (f1, \"value\"), (self.graph, \"f1\"))\n",
      "\n",
      "        f2 = FloatSlider(description=\"f2\", min=220, max=230, value=225)\n",
      "        link((f2, \"value\"), (self.graph, \"f2\"))\n",
      "        \n",
      "        freqs = VBox(children=[f1, f2])\n",
      "\n",
      "        L = FloatSlider(description=\"L\", min=0.5, max=3, value=2)\n",
      "        link((L, \"value\"), (self.graph, \"L\"))\n",
      "\n",
      "#        rate = FloatSlider(description=\"rate\", min=2000, max=5000, value=4000)\n",
      " #       link((rate, \"value\"), (self.graph, \"rate\"))        \n",
      "        \n",
      "        time_ctrls = VBox(children=[L])\n",
      "        \n",
      "        return ControlPanel(title=\"Audio Beats\",\n",
      "            children=[HBox(children=[freqs, time_ctrls])] )"
     ],
     "language": "python",
     "metadata": {},
     "outputs": [],
     "prompt_number": 10
    },
    {
     "cell_type": "markdown",
     "metadata": {},
     "source": [
      "Hooray, everything is defined, now we can try this out!"
     ]
    },
    {
     "cell_type": "code",
     "collapsed": false,
     "input": [
      "BeatsExplorer()"
     ],
     "language": "python",
     "metadata": {},
     "outputs": [],
     "prompt_number": 11
    },
    {
     "cell_type": "code",
     "collapsed": false,
     "input": [],
     "language": "python",
     "metadata": {},
     "outputs": []
    }
   ],
   "metadata": {}
  }
 ]
}